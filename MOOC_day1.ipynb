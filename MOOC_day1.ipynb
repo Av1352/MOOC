{
  "nbformat": 4,
  "nbformat_minor": 0,
  "metadata": {
    "colab": {
      "name": "MOOC_day1.ipynb",
      "provenance": [],
      "collapsed_sections": [],
      "authorship_tag": "ABX9TyOQ5957OST8GdyMorVqLgPB",
      "include_colab_link": true
    },
    "kernelspec": {
      "name": "python3",
      "display_name": "Python 3"
    },
    "language_info": {
      "name": "python"
    }
  },
  "cells": [
    {
      "cell_type": "markdown",
      "metadata": {
        "id": "view-in-github",
        "colab_type": "text"
      },
      "source": [
        "<a href=\"https://colab.research.google.com/github/Av1352/MOOC/blob/main/MOOC_day1.ipynb\" target=\"_parent\"><img src=\"https://colab.research.google.com/assets/colab-badge.svg\" alt=\"Open In Colab\"/></a>"
      ]
    },
    {
      "cell_type": "code",
      "metadata": {
        "id": "hQjQiI5e6eCY",
        "colab": {
          "base_uri": "https://localhost:8080/"
        },
        "outputId": "6d495b1c-481e-4356-b354-9e6bbac1c9d6"
      },
      "source": [
        "# type of a variable\n",
        "a=10.789\n",
        "print(type(a))"
      ],
      "execution_count": 1,
      "outputs": [
        {
          "output_type": "stream",
          "text": [
            "<class 'float'>\n"
          ],
          "name": "stdout"
        }
      ]
    },
    {
      "cell_type": "code",
      "metadata": {
        "colab": {
          "base_uri": "https://localhost:8080/"
        },
        "id": "hF4fs_YC8On3",
        "outputId": "50352e81-17fc-4b11-907c-2dadfbe7caa4"
      },
      "source": [
        "# capitalize and swapcase methods\n",
        "a = 'anju'\n",
        "b = 'third year'\n",
        "c = a.capitalize()\n",
        "d = a.swapcase()\n",
        "print(c)\n",
        "print(d)"
      ],
      "execution_count": 9,
      "outputs": [
        {
          "output_type": "stream",
          "text": [
            "Anju\n",
            "ANJU\n"
          ],
          "name": "stdout"
        }
      ]
    },
    {
      "cell_type": "code",
      "metadata": {
        "colab": {
          "base_uri": "https://localhost:8080/"
        },
        "id": "bbABhefD-Gdp",
        "outputId": "c5e434f1-e9f2-4792-ea7a-bd2993516449"
      },
      "source": [
        "# upper and lower methods\n",
        "a = 'student of'\n",
        "b = 'SRM'\n",
        "print(a.upper())\n",
        "print(b.lower())"
      ],
      "execution_count": 10,
      "outputs": [
        {
          "output_type": "stream",
          "text": [
            "STUDENT OF\n",
            "srm\n"
          ],
          "name": "stdout"
        }
      ]
    },
    {
      "cell_type": "code",
      "metadata": {
        "colab": {
          "base_uri": "https://localhost:8080/"
        },
        "id": "44-q0MRu_I34",
        "outputId": "d2331e71-1ce4-4424-9c53-af4e6162e08f"
      },
      "source": [
        "# strip, rstrip and lstrip methods\n",
        "a = '   this is mooc '\n",
        "print(a.strip())\n",
        "print(a.lstrip('s ti'))\n",
        "print(a.rstrip('si oo'))"
      ],
      "execution_count": 13,
      "outputs": [
        {
          "output_type": "stream",
          "text": [
            "this is mooc\n",
            "his is mooc \n",
            "   this is mooc\n"
          ],
          "name": "stdout"
        }
      ]
    },
    {
      "cell_type": "code",
      "metadata": {
        "colab": {
          "base_uri": "https://localhost:8080/"
        },
        "id": "bD15OV4wAaZp",
        "outputId": "c876673d-dc06-4f70-8cea-613414e8f1b0"
      },
      "source": [
        "# partition, rpartition and maketrans methods\n",
        "a = \"this is for mooc class\"\n",
        "print(a.partition('for '))\n",
        "print(a.rpartition('is'))\n",
        "dict = {\"a\": \"123\", \"b\": \"456\", \"c\": \"789\"}\n",
        "string = \"abc\"\n",
        "print(string.maketrans(dict))"
      ],
      "execution_count": 24,
      "outputs": [
        {
          "output_type": "stream",
          "text": [
            "('this is ', 'for ', 'mooc class')\n",
            "('this ', 'is', ' for mooc class')\n",
            "{97: '123', 98: '456', 99: '789'}\n"
          ],
          "name": "stdout"
        }
      ]
    },
    {
      "cell_type": "code",
      "metadata": {
        "colab": {
          "base_uri": "https://localhost:8080/"
        },
        "id": "roMPhYhtBRjX",
        "outputId": "14d8eece-56dc-408c-aba1-4b79c596a76b"
      },
      "source": [
        "# count of substring\n",
        "string = \"This is mooc class\"\n",
        "substring = \"is\"\n",
        "\n",
        "count = string.count(substring)\n",
        "print(\"The count is:\", count)"
      ],
      "execution_count": 29,
      "outputs": [
        {
          "output_type": "stream",
          "text": [
            "The count is: 2\n"
          ],
          "name": "stdout"
        }
      ]
    }
  ]
}