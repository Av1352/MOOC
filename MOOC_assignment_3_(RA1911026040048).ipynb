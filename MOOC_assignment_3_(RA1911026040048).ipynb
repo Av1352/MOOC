{
  "nbformat": 4,
  "nbformat_minor": 0,
  "metadata": {
    "colab": {
      "name": "MOOC assignment 3 (RA1911026040048)",
      "provenance": [],
      "collapsed_sections": [],
      "include_colab_link": true
    },
    "kernelspec": {
      "name": "python3",
      "display_name": "Python 3"
    },
    "language_info": {
      "name": "python"
    }
  },
  "cells": [
    {
      "cell_type": "markdown",
      "metadata": {
        "id": "view-in-github",
        "colab_type": "text"
      },
      "source": [
        "<a href=\"https://colab.research.google.com/github/Av1352/MOOC/blob/main/MOOC_assignment_3_(RA1911026040048).ipynb\" target=\"_parent\"><img src=\"https://colab.research.google.com/assets/colab-badge.svg\" alt=\"Open In Colab\"/></a>"
      ]
    },
    {
      "cell_type": "code",
      "metadata": {
        "colab": {
          "base_uri": "https://localhost:8080/"
        },
        "id": "LHlAHdftzY1U",
        "outputId": "804d03db-ed1a-40b3-e67b-846ff7de7d65"
      },
      "source": [
        "from sklearn import tree\n",
        "features = [[0,1,125],[1,0,100],[0,0,70],[1,1,120],[2,0,95],[1,0,60],[2,1,220],[0,0,85],[1,0,75],[0,0,90]]\n",
        "labels = [0,0,0,0,1,0,1,0,0,1]\n",
        "clf = tree.DecisionTreeClassifier()\n",
        "myclf = clf.fit(features, labels)\n",
        "Marital=input(\"Marital Status (Single = 0/Married = 1/Divorced= 2) :\")\n",
        "Refund=input(\"Refund (Yes = 1/No = 0) :\")\n",
        "Taxincome=input(\"Tax Income :\")\n",
        "list1=[Marital,Refund,Taxincome]\n",
        "if myclf.predict([list1])==0:\n",
        "  print(\"\\nNot a Cheater\")\n",
        "else:\n",
        "  print(\"\\nCheater\")"
      ],
      "execution_count": null,
      "outputs": [
        {
          "output_type": "stream",
          "text": [
            "Marital Status (Single = 0/Married = 1/Divorced= 2) :2\n",
            "Refund (Yes = 1/No = 0) :1\n",
            "Tax Income :56789\n",
            "\n",
            "Cheater\n"
          ],
          "name": "stdout"
        }
      ]
    },
    {
      "cell_type": "code",
      "metadata": {
        "colab": {
          "base_uri": "https://localhost:8080/"
        },
        "id": "Vudoy94Zh_oR",
        "outputId": "34d85260-b275-4ebc-97b9-8826781ae4db"
      },
      "source": [
        "from sklearn import tree\n",
        "features = [[0,85,85,0],[0,80,90,1],[2,83,78,0],[1,70,96,0],[1,68,80,0],[1,65,70,1],[2,64,65,1],[0,72,95,0],[0,69,70,0],[1,75,80,0],[0,75,70,1],[2,72,90,1],[2,81,75,0],[0,71,80,1]]\n",
        "labels = [0,0,1,1,1,0,1,0,1,1,1,1,1,0]\n",
        "clf = tree.DecisionTreeClassifier()\n",
        "myclf = clf.fit(features, labels)\n",
        "outlook=input(\"Outlook (Sunny = 0/Rain = 1/Overcast = 2) :\")\n",
        "temperature=input(\"Temperature :\")\n",
        "humidity=input(\"Humidity :\")\n",
        "windy=input(\"Windy (True = 1/False = 0) :\")\n",
        "list1=[outlook,temperature,humidity,windy]\n",
        "if myclf.predict([list1])==0:\n",
        "  print(\"\\nYou cannot play Golf\")\n",
        "else:\n",
        "  print(\"\\nYou can Play Golf\")"
      ],
      "execution_count": null,
      "outputs": [
        {
          "output_type": "stream",
          "text": [
            "Outlook (Sunny = 0/Rain = 1/Overcast = 2) :1\n",
            "Temperature :70\n",
            "Humidity :90\n",
            "Windy (True = 1/False = 0) :1\n",
            "\n",
            "You can Play Golf\n"
          ],
          "name": "stdout"
        }
      ]
    }
  ]
}